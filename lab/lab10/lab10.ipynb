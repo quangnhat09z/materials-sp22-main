{
 "cells": [
  {
   "cell_type": "code",
   "execution_count": 183,
   "id": "ae049861",
   "metadata": {
    "deletable": false,
    "editable": false,
    "id": "ae049861"
   },
   "outputs": [],
   "source": [
    "# Initialize Otter\n",
    "import otter\n",
    "grader = otter.Notebook(\"lab10.ipynb\")"
   ]
  },
  {
   "cell_type": "markdown",
   "id": "32ac6102",
   "metadata": {
    "id": "32ac6102"
   },
   "source": [
    "<img src=\"data8logo.png\" alt=\"Data 8 Logo\" style=\"width: 15%; float: right; padding: 1%; margin-right: 2%;\"/>\n",
    "\n",
    "# Lab 10: Conditional Probability\n",
    "\n",
    "Welcome to Lab 10! (the last lab of the semester!)\n",
    "\n",
    "Lab 10 focuses on one of the final topics in the course, conditional probability.\n",
    "\n",
    "#### **Helpful Resource:**\n",
    "- [Python Reference](http://data8.org/fa24/reference/)\n",
    "\n",
    "**Recommended Readings:**\n",
    "\n",
    "* [Chapter 18](https://inferentialthinking.com/chapters/18/Updating_Predictions.html)"
   ]
  },
  {
   "cell_type": "code",
   "execution_count": 184,
   "id": "f9c5fe3f",
   "metadata": {
    "id": "f9c5fe3f"
   },
   "outputs": [],
   "source": [
    "# Run this cell to set up the notebook, but please don't change it.\n",
    "\n",
    "# These lines import the Numpy and Datascience modules.\n",
    "import numpy as np\n",
    "from datascience import *\n",
    "\n",
    "# These lines do some fancy plotting magic.\n",
    "import matplotlib\n",
    "%matplotlib inline\n",
    "import matplotlib.pyplot as plt\n",
    "plt.style.use('fivethirtyeight')\n",
    "import warnings\n",
    "warnings.simplefilter('ignore')\n",
    "\n",
    "# This line loads the visualization code for this lab.\n",
    "import visualizations"
   ]
  },
  {
   "cell_type": "markdown",
   "id": "20bb3399",
   "metadata": {
    "id": "20bb3399"
   },
   "source": [
    "<hr style=\"border: 5px solid #003262;\" />\n",
    "<hr style=\"border: 1px solid #fdb515;\" />\n",
    "\n",
    "# 1. What is conditional probability good for?\n",
    "\n",
    "Suppose we have a known population, like all dogs in California.  So far, we've seen three ways of *predicting* something about an individual in that population, given incomplete knowledge about the identity of the individual:\n",
    "\n",
    "* If we know nothing about the individual dog, we could predict that its speed is the *average* or *median* of all the speeds in the population.\n",
    "* If we know the dog's height but not its speed, we could use *linear regression* to predict its speed from its height.  The resulting prediction is still imperfect, but it might be more accurate than the population average.\n",
    "\n",
    "We can also compute conditional probabilities to make predictions about individuals or events. This technique is different from the previous methods we’ve examined because\n",
    "\n",
    "1. our prediction for each outcome is described by a probability, and\n",
    "2. each probability can be exactly calculated from assumptions, as opposed to estimated from data."
   ]
  },
  {
   "cell_type": "markdown",
   "id": "0b41cf0b",
   "metadata": {
    "id": "0b41cf0b"
   },
   "source": [
    "<hr style=\"border: 5px solid #003262;\" />\n",
    "<hr style=\"border: 1px solid #fdb515;\" />\n",
    "\n",
    "# 2. Icon arrays\n",
    "Parts 3 and 4 of this lab work with a more complex example about disease, but first, let's start with a simple example.\n",
    "\n",
    "Imagine you and Samantha are playing a game in which you are given a marble and tasked to determine the marble's texture and size. You don't know anything about the marble you're given, but you know that Samantha drew it **uniformly at random** from a bag that contained the following marbles:\n",
    "* 4 large shiny marbles,\n",
    "* 1 large dull marble,\n",
    "* 6 small shiny marbles,\n",
    "* 2 small dull marbles."
   ]
  },
  {
   "cell_type": "markdown",
   "id": "79235cf7",
   "metadata": {
    "id": "79235cf7"
   },
   "source": [
    "---\n",
    "\n",
    "**Question 2.0.1.** Knowing only what we've told you so far, what's the probability that the marble you're given was a large shiny marble?\n"
   ]
  },
  {
   "cell_type": "code",
   "execution_count": 185,
   "id": "26099f76",
   "metadata": {
    "deletable": false,
    "id": "26099f76",
    "outputId": "5f118f51-d9dc-439e-a187-10de46b574ec",
    "tags": []
   },
   "outputs": [
    {
     "data": {
      "text/plain": [
       "0.3076923076923077"
      ]
     },
     "execution_count": 185,
     "metadata": {},
     "output_type": "execute_result"
    }
   ],
   "source": [
    "probability_large_shiny = 4 / (4 + 1 + 6 + 2)\n",
    "probability_large_shiny"
   ]
  },
  {
   "cell_type": "code",
   "execution_count": 186,
   "id": "ff0742cb",
   "metadata": {
    "deletable": false,
    "editable": false,
    "id": "ff0742cb",
    "outputId": "55a313a1-4d19-40e7-c5cc-330cfadc3059"
   },
   "outputs": [
    {
     "data": {
      "text/html": [
       "<p><strong><pre style='display: inline;'>q2_0_1</pre></strong> passed! 🚀</p>"
      ],
      "text/plain": [
       "q2_0_1 results: All test cases passed!"
      ]
     },
     "execution_count": 186,
     "metadata": {},
     "output_type": "execute_result"
    }
   ],
   "source": [
    "grader.check(\"q2_0_1\")"
   ]
  },
  {
   "cell_type": "markdown",
   "id": "d470ea95",
   "metadata": {
    "id": "d470ea95"
   },
   "source": [
    "Here's a table with those marbles:"
   ]
  },
  {
   "cell_type": "code",
   "execution_count": 187,
   "id": "e7c8786c",
   "metadata": {
    "id": "e7c8786c",
    "outputId": "f5e8f66b-d157-4639-9988-657e9d82e10e"
   },
   "outputs": [
    {
     "data": {
      "text/html": [
       "<table border=\"1\" class=\"dataframe\">\n",
       "    <thead>\n",
       "        <tr>\n",
       "            <th>surface</th> <th>size</th>\n",
       "        </tr>\n",
       "    </thead>\n",
       "    <tbody>\n",
       "        <tr>\n",
       "            <td>shiny  </td> <td>large</td>\n",
       "        </tr>\n",
       "        <tr>\n",
       "            <td>shiny  </td> <td>large</td>\n",
       "        </tr>\n",
       "        <tr>\n",
       "            <td>shiny  </td> <td>large</td>\n",
       "        </tr>\n",
       "        <tr>\n",
       "            <td>shiny  </td> <td>large</td>\n",
       "        </tr>\n",
       "        <tr>\n",
       "            <td>dull   </td> <td>large</td>\n",
       "        </tr>\n",
       "        <tr>\n",
       "            <td>shiny  </td> <td>small</td>\n",
       "        </tr>\n",
       "        <tr>\n",
       "            <td>shiny  </td> <td>small</td>\n",
       "        </tr>\n",
       "        <tr>\n",
       "            <td>shiny  </td> <td>small</td>\n",
       "        </tr>\n",
       "        <tr>\n",
       "            <td>shiny  </td> <td>small</td>\n",
       "        </tr>\n",
       "        <tr>\n",
       "            <td>shiny  </td> <td>small</td>\n",
       "        </tr>\n",
       "        <tr>\n",
       "            <td>shiny  </td> <td>small</td>\n",
       "        </tr>\n",
       "        <tr>\n",
       "            <td>dull   </td> <td>small</td>\n",
       "        </tr>\n",
       "        <tr>\n",
       "            <td>dull   </td> <td>small</td>\n",
       "        </tr>\n",
       "    </tbody>\n",
       "</table>"
      ],
      "text/plain": [
       "<IPython.core.display.HTML object>"
      ]
     },
     "metadata": {},
     "output_type": "display_data"
    }
   ],
   "source": [
    "marbles = Table.read_table(\"marbles.csv\")\n",
    "marbles.show()"
   ]
  },
  {
   "cell_type": "markdown",
   "id": "265aa9e5",
   "metadata": {
    "id": "265aa9e5"
   },
   "source": [
    "Here are the counts of each type of marble in a pivot table."
   ]
  },
  {
   "cell_type": "code",
   "execution_count": 188,
   "id": "f4b98fb0",
   "metadata": {
    "id": "f4b98fb0",
    "outputId": "f3213316-0c9a-472a-9fcb-454e6445a49c"
   },
   "outputs": [
    {
     "data": {
      "text/html": [
       "<table border=\"1\" class=\"dataframe\">\n",
       "    <thead>\n",
       "        <tr>\n",
       "            <th>size</th> <th>dull</th> <th>shiny</th>\n",
       "        </tr>\n",
       "    </thead>\n",
       "    <tbody>\n",
       "        <tr>\n",
       "            <td>large</td> <td>1   </td> <td>4    </td>\n",
       "        </tr>\n",
       "        <tr>\n",
       "            <td>small</td> <td>2   </td> <td>6    </td>\n",
       "        </tr>\n",
       "    </tbody>\n",
       "</table>"
      ],
      "text/plain": [
       "size  | dull | shiny\n",
       "large | 1    | 4\n",
       "small | 2    | 6"
      ]
     },
     "execution_count": 188,
     "metadata": {},
     "output_type": "execute_result"
    }
   ],
   "source": [
    "marbles.pivot('surface', 'size')"
   ]
  },
  {
   "cell_type": "markdown",
   "id": "4adeaf41",
   "metadata": {
    "id": "4adeaf41"
   },
   "source": [
    "Here are all the different combinations of surface and size, with the count for each surface-size combination. Each type of marble appears in its own row."
   ]
  },
  {
   "cell_type": "code",
   "execution_count": 189,
   "id": "17b6c99e",
   "metadata": {
    "id": "17b6c99e",
    "outputId": "2adfb98f-3718-46c8-ac72-921787188862"
   },
   "outputs": [
    {
     "data": {
      "text/html": [
       "<table border=\"1\" class=\"dataframe\">\n",
       "    <thead>\n",
       "        <tr>\n",
       "            <th>surface</th> <th>size</th> <th>count</th>\n",
       "        </tr>\n",
       "    </thead>\n",
       "    <tbody>\n",
       "        <tr>\n",
       "            <td>dull   </td> <td>large</td> <td>1    </td>\n",
       "        </tr>\n",
       "        <tr>\n",
       "            <td>dull   </td> <td>small</td> <td>2    </td>\n",
       "        </tr>\n",
       "        <tr>\n",
       "            <td>shiny  </td> <td>large</td> <td>4    </td>\n",
       "        </tr>\n",
       "        <tr>\n",
       "            <td>shiny  </td> <td>small</td> <td>6    </td>\n",
       "        </tr>\n",
       "    </tbody>\n",
       "</table>"
      ],
      "text/plain": [
       "surface | size  | count\n",
       "dull    | large | 1\n",
       "dull    | small | 2\n",
       "shiny   | large | 4\n",
       "shiny   | small | 6"
      ]
     },
     "execution_count": 189,
     "metadata": {},
     "output_type": "execute_result"
    }
   ],
   "source": [
    "marbles.group(['surface', 'size'])"
   ]
  },
  {
   "cell_type": "markdown",
   "id": "14c27d63",
   "metadata": {
    "id": "14c27d63"
   },
   "source": [
    "We've included some code to display something called an *icon array*.  The functions in the cell below create icon arrays from various kinds of tables. Don't worry about understanding the code; just run this cell.\n",
    "\n",
    "**NOTE:** You may ignore the the y-axis labels. Just remember that each box represents 1 marble."
   ]
  },
  {
   "cell_type": "code",
   "execution_count": 190,
   "id": "0be1af2d",
   "metadata": {
    "id": "0be1af2d"
   },
   "outputs": [],
   "source": [
    "# Run this cell.\n",
    "\n",
    "#######################################################################\n",
    "# The functions you'll need to actually use are in here.  Each is a\n",
    "# way of making an icon array from a differently-formatted table.\n",
    "#######################################################################\n",
    "\n",
    "def display_icon_array(table, groups, individuals_name):\n",
    "    \"\"\"\n",
    "    Given a table and some columns to group it on, displays an icon array\n",
    "    of the groups.\n",
    "\n",
    "    groups should be an array of labels of columns in table.\n",
    "\n",
    "    individuals_name is your name for the individual rows of table.\n",
    "    For example, if we're talking about a population of people,\n",
    "    individuals_name should be \"people\".\n",
    "\n",
    "    For example:\n",
    "\n",
    "    display_icon_array(marbles, [\"surface\", \"size\"], \"marbles\")\n",
    "    \"\"\"\n",
    "    display_grouped_icon_array(table.group(groups), individuals_name)\n",
    "\n",
    "def display_grouped_icon_array(grouped_data, individuals_name):\n",
    "    \"\"\"\n",
    "    Given a table with counts for data grouped by 1 or more categories,\n",
    "    displays an icon array of the groups represented in the table.\n",
    "\n",
    "    grouped_data should be a table of frequencies or counts, such as\n",
    "    a table created by calling the groups method on some table.\n",
    "\n",
    "    individuals_name is your name for the individual members of the\n",
    "    dataset.  For example, if we're talking about a population of\n",
    "    people, individuals_name should be \"people\".\n",
    "\n",
    "    For example:\n",
    "\n",
    "    display_grouped_icon_array(marbles.group([\"surface\", \"size\"]), \"marbles\")\n",
    "    \"\"\"\n",
    "    visualizations.display_combinations(grouped_data, individuals_name=individuals_name)\n",
    "\n",
    "def display_crosstab_icon_array(crosstabulation, x_label, individuals_name):\n",
    "    \"\"\"\n",
    "    Given a crosstabulation table, displays an icon array of the groups\n",
    "    represented in the table.\n",
    "\n",
    "    crosstabulation should be a table of frequencies or counts created by\n",
    "    calling pivot on some table.\n",
    "\n",
    "    x_label should be the label of the categories listed as columns (on\n",
    "    the \"x axis\" when the crosstabulation table is printed).\n",
    "\n",
    "    individuals_name is your name for the individual members of the\n",
    "    dataset.  For example, if we're talking about a population of\n",
    "    people, individuals_name should be \"people\".\n",
    "\n",
    "    For example:\n",
    "\n",
    "    display_crosstab_icon_array(marbles.pivot(\"surface\", \"size\"), \"surface\", \"marbles\")\n",
    "    \"\"\"\n",
    "    display_grouped_icon_array(visualizations.pivot_table_to_groups(crosstabulation, x_label), individuals_name)"
   ]
  },
  {
   "cell_type": "markdown",
   "id": "fc8cfca8",
   "metadata": {
    "id": "fc8cfca8"
   },
   "source": [
    "Here's an icon array of all the marbles, grouped by surface and size:"
   ]
  },
  {
   "cell_type": "code",
   "execution_count": 191,
   "id": "1eacd70e",
   "metadata": {
    "id": "1eacd70e",
    "outputId": "e8d7c1bb-4e4a-44ef-8d01-5ca188b6f91b",
    "scrolled": true
   },
   "outputs": [],
   "source": [
    "# Run this cell.\n",
    "#display_grouped_icon_array(marbles.group([\"surface\", \"size\"]), \"marble(s)\")"
   ]
  },
  {
   "cell_type": "markdown",
   "id": "1dacdff4",
   "metadata": {
    "id": "1dacdff4"
   },
   "source": [
    "You should imagine that the marble you've been given was selected by a random draw from these 13 icons.\n",
    "\n",
    "The following is an icon array of the marbles, grouped **only by their surface (shiny/dull)**."
   ]
  },
  {
   "cell_type": "code",
   "execution_count": 192,
   "id": "6eee4515",
   "metadata": {
    "id": "6eee4515",
    "outputId": "89c5975d-91e7-4f9a-dafa-22011670c10f"
   },
   "outputs": [],
   "source": [
    "#display_grouped_icon_array(marbles.group(\"surface\"), \"marble(s)\")"
   ]
  },
  {
   "cell_type": "markdown",
   "id": "e7f6397a",
   "metadata": {
    "id": "e7f6397a"
   },
   "source": [
    "Knowing nothing else about the marble, it's equally likely to be any of the marbles depicted above; this is because we've assumed that the marble is selected **uniformly at random** from the bag.\n",
    "\n",
    "---\n",
    "\n",
    "**Question 2.0.2.** What's the probability that you've been given a shiny marble? Answer using mathematical expressions by looking at your icon array.\n"
   ]
  },
  {
   "cell_type": "code",
   "execution_count": 193,
   "id": "21cbe20c",
   "metadata": {
    "deletable": false,
    "id": "21cbe20c",
    "tags": []
   },
   "outputs": [],
   "source": [
    "probability_shiny = 10 / 13"
   ]
  },
  {
   "cell_type": "code",
   "execution_count": 194,
   "id": "4eee3899",
   "metadata": {
    "deletable": false,
    "editable": false,
    "id": "4eee3899",
    "outputId": "22d6c008-82d9-4cd0-f48a-f2ad76528e2f"
   },
   "outputs": [
    {
     "data": {
      "text/html": [
       "<p><strong><pre style='display: inline;'>q2_0_2</pre></strong> passed! 🚀</p>"
      ],
      "text/plain": [
       "q2_0_2 results: All test cases passed!"
      ]
     },
     "execution_count": 194,
     "metadata": {},
     "output_type": "execute_result"
    }
   ],
   "source": [
    "grader.check(\"q2_0_2\")"
   ]
  },
  {
   "cell_type": "markdown",
   "id": "d8b39c54",
   "metadata": {
    "id": "d8b39c54"
   },
   "source": [
    "<hr style=\"border: 5px solid #003262;\" />\n",
    "<hr style=\"border: 1px solid #fdb515;\" />\n",
    "\n",
    "## 2.1. Conditional probability\n",
    "\n",
    "Suppose you overhear Samantha say that you were given a large marble. Does this somehow change the chance that your marble is shiny?  Let's find out.\n",
    "\n",
    "Go back to the full icon array, displayed below for convenience."
   ]
  },
  {
   "cell_type": "code",
   "execution_count": 195,
   "id": "fa1a058d",
   "metadata": {
    "id": "fa1a058d",
    "outputId": "732a55e9-68ec-4502-fd56-f631e0dc0f91"
   },
   "outputs": [],
   "source": [
    "#display_grouped_icon_array(marbles.group([\"surface\", \"size\"]), \"marble(s)\")"
   ]
  },
  {
   "cell_type": "markdown",
   "id": "eaf9bc9a",
   "metadata": {
    "id": "eaf9bc9a"
   },
   "source": [
    "In question 2.0.2, we assumed that the marble you were given was equally likely to be any of the marbles, simply because we didn't know any better.  That's why we looked at all the marbles to compute the probability that your marble was shiny.\n",
    "\n",
    "But assuming that you've been given a large marble, we can eliminate some of these possibilities. In particular, you can't have been given a small shiny marble or a small dull marble.\n",
    "\n",
    "You're still equally likely to have been given any of the remaining marbles, because you don't know any other information.  So here's an icon array of those remaining possibilities:"
   ]
  },
  {
   "cell_type": "code",
   "execution_count": 196,
   "id": "79b8df34",
   "metadata": {
    "id": "79b8df34",
    "outputId": "f8262b00-be71-4899-e082-f81c6af397ed"
   },
   "outputs": [],
   "source": [
    "# Just run this cell.\n",
    "#display_grouped_icon_array(marbles.where(\"size\", \"large\").group(\"surface\"), \"large marble(s)\")"
   ]
  },
  {
   "cell_type": "markdown",
   "id": "0c0868ab",
   "metadata": {
    "id": "0c0868ab"
   },
   "source": [
    "---\n",
    "\n",
    "**Question 2.1.1.** What's the probability Samantha gave you a shiny marble, knowing that she gave you a large marble?\n",
    "\n",
    "*Hint: Take a look at the icon array.*\n"
   ]
  },
  {
   "cell_type": "code",
   "execution_count": 197,
   "id": "4b353172",
   "metadata": {
    "deletable": false,
    "id": "4b353172",
    "tags": []
   },
   "outputs": [],
   "source": [
    "probability_shiny_given_large = 4 / 5"
   ]
  },
  {
   "cell_type": "code",
   "execution_count": 198,
   "id": "6659829c",
   "metadata": {
    "deletable": false,
    "editable": false,
    "id": "6659829c",
    "outputId": "8a1a9344-f88d-4692-f0a9-af6d30b5dcfa"
   },
   "outputs": [
    {
     "data": {
      "text/html": [
       "<p><strong><pre style='display: inline;'>q2_1_1</pre></strong> passed! 🎉</p>"
      ],
      "text/plain": [
       "q2_1_1 results: All test cases passed!"
      ]
     },
     "execution_count": 198,
     "metadata": {},
     "output_type": "execute_result"
    }
   ],
   "source": [
    "grader.check(\"q2_1_1\")"
   ]
  },
  {
   "cell_type": "markdown",
   "id": "ef94496a",
   "metadata": {
    "id": "ef94496a"
   },
   "source": [
    "You should have found that this is different from the probability that Samantha gave you a shiny marble, given no size information, which you computed earlier.  The distribution of surfaces among the large marbles is a little different from the distribution of surfaces among all the marbles. We have calculated a conditional probability with the additional assumption of a given size"
   ]
  },
  {
   "cell_type": "code",
   "execution_count": 199,
   "id": "1ef76c04",
   "metadata": {
    "id": "1ef76c04",
    "outputId": "4351fbbe-8795-413e-e6c1-95ce86113fd3"
   },
   "outputs": [],
   "source": [
    "# Run this cell to display the icon array. Then fill answer the next question.\n",
    "#display_grouped_icon_array(marbles.where(\"surface\", \"shiny\").group(\"size\"), \"shiny marble(s)\")"
   ]
  },
  {
   "cell_type": "markdown",
   "id": "e81fadfd",
   "metadata": {
    "id": "e81fadfd"
   },
   "source": [
    "---\n",
    "\n",
    "**Question 2.1.2.** Suppose instead Samantha had said she gave you a **shiny** marble (hooray!). What's the probability that the marble given to you is large?\n",
    "\n",
    "Run the code cell above to display the icon array, then assign `probability_large_given_shiny` to the appropriate value."
   ]
  },
  {
   "cell_type": "code",
   "execution_count": 200,
   "id": "207a1bdf",
   "metadata": {
    "id": "207a1bdf",
    "tags": []
   },
   "outputs": [],
   "source": [
    "probability_large_given_shiny = 4 / 10"
   ]
  },
  {
   "cell_type": "code",
   "execution_count": 201,
   "id": "88140b51",
   "metadata": {
    "deletable": false,
    "editable": false,
    "id": "88140b51",
    "outputId": "0e1d956b-a9e6-4963-eefb-f8002b9534a4"
   },
   "outputs": [
    {
     "data": {
      "text/html": [
       "<p><strong><pre style='display: inline;'>q2_1_2</pre></strong> passed! 🌟</p>"
      ],
      "text/plain": [
       "q2_1_2 results: All test cases passed!"
      ]
     },
     "execution_count": 201,
     "metadata": {},
     "output_type": "execute_result"
    }
   ],
   "source": [
    "grader.check(\"q2_1_2\")"
   ]
  },
  {
   "cell_type": "markdown",
   "id": "adcaf0c8",
   "metadata": {
    "id": "adcaf0c8"
   },
   "source": [
    "---\n",
    "\n",
    "**Question 2.1.3.** Can you answer the previous two questions just by looking at the full icon array?  (You can run the cell below to see it again.)\n",
    "\n",
    "*Hint:* Check out [Ch 18.2](https://inferentialthinking.com/chapters/18/2/Making_Decisions.html) for a refresher on how to use Bayes' Rule."
   ]
  },
  {
   "cell_type": "code",
   "execution_count": 202,
   "id": "c90cc4e4",
   "metadata": {
    "id": "c90cc4e4",
    "outputId": "2ff5ad1d-afc4-4d7f-ab06-779e8499dc63"
   },
   "outputs": [],
   "source": [
    "# Just run this cell.  The next cell is where you should write your answer.\n",
    "#display_grouped_icon_array(marbles.group([\"surface\", \"size\"]), \"marble(s)\")"
   ]
  },
  {
   "cell_type": "markdown",
   "id": "7af196f4",
   "metadata": {
    "id": "7af196f4"
   },
   "source": [
    "If you can, how? If not, why not? Check with your lab peers or a staff member to see if you are on the right track.\n"
   ]
  },
  {
   "cell_type": "markdown",
   "id": "c6944e21",
   "metadata": {
    "id": "c6944e21"
   },
   "source": [
    "_Type your answer here, replacing this text._"
   ]
  },
  {
   "cell_type": "markdown",
   "id": "36fa0d41",
   "metadata": {
    "id": "36fa0d41"
   },
   "source": [
    "<hr style=\"border: 5px solid #003262;\" />\n",
    "<hr style=\"border: 1px solid #fdb515;\" />\n",
    "\n",
    "# 3. Cancer screening\n",
    "Hopefully the icon arrays from the previous portion helped you build intuition for why conditional probabilities can be helpful. Now, let’s look at a real life application.\n",
    "\n",
    "### Background\n",
    "Medical testing is very important, especially for cancer. A basic cancer screening involves looking for cancer before a person has any symptoms.\n",
    "\n",
    "Cancer screening is not 100% reliable, and it can have errors. There are cases in which someone without cancer or with a benign tumor sees a positive test result. There are also cases where someone with cancer can receive a negative result. (“Positive” implies an indication of cancer in this context.) The first case, called a false positive, could cause anxiety for a patient and lead to further testing that may be risky and involve unnecessary radiation. In the second case, called a false negative, a person would not receive the necessary information and possible treatment for their condition.\n",
    "\n",
    "Conditional probability can provide insight into the accuracy of initial cancer tests. For example, you can compute the chance that a person has cancer given the results of a diagnostic test by combining information from different probability distributions. You’ll see that the chance Person X does have cancer even if they receive a positive result is not necessarily 100%.\n",
    "\n",
    "It is important to note that conditional probabilities offer just one line of insight to understanding a test result and that this statistical approach does not take into account important factors like heredity or environment that come to affect a person’s health and diagnoses. The [Centers for Disease Control and Prevention](https://www.cdc.gov/cancer/dcpc/prevention/screening.htm) (CDC) recommends getting preventative cancer screenings, and one should always consult a doctor if they are concerned about their health."
   ]
  },
  {
   "cell_type": "markdown",
   "id": "9a49653f",
   "metadata": {
    "id": "9a49653f"
   },
   "source": [
    "<hr style=\"border: 5px solid #003262;\" />\n",
    "<hr style=\"border: 1px solid #fdb515;\" />\n",
    "\n",
    "## 3.1. Basic cancer statistics\n",
    "\n",
    "Note: All of the following statistics are made up and don’t necessarily reflect the actual state of the world.\n",
    "\n",
    "\n",
    "Suppose that in a representative group of 10,000 people who are tested for cancer (\"representative\" meaning that the frequencies of different events are the same as the frequencies in the whole population):\n",
    "1. 100 people have cancer.\n",
    "2. Among the 100 people that have cancer, 90 have positive results on a cancer test and 10 have negative results.  (So 10 people receive false negative results.)\n",
    "3. The other 9,900 people don't have cancer.\n",
    "4. Among these 9,900 people, 198 have positive results on a cancer test and the other 9,702 have negative results.  (So 198 see \"false positive\" results.)\n",
    "\n",
    "Below we've generated a table with data from these 10,000 hypothetical people.\n",
    "\n",
    "*Note: These statistics are made up and don’t necessarily reflect the actual state of the world.*"
   ]
  },
  {
   "cell_type": "code",
   "execution_count": 203,
   "id": "7e77e70d",
   "metadata": {
    "id": "7e77e70d",
    "outputId": "09da313c-7654-466d-f285-e9d2900330dc"
   },
   "outputs": [
    {
     "data": {
      "text/html": [
       "<table border=\"1\" class=\"dataframe\">\n",
       "    <thead>\n",
       "        <tr>\n",
       "            <th>status</th> <th>test status</th> <th>count</th>\n",
       "        </tr>\n",
       "    </thead>\n",
       "    <tbody>\n",
       "        <tr>\n",
       "            <td>cancer   </td> <td>positive   </td> <td>90   </td>\n",
       "        </tr>\n",
       "        <tr>\n",
       "            <td>cancer   </td> <td>negative   </td> <td>10   </td>\n",
       "        </tr>\n",
       "        <tr>\n",
       "            <td>no cancer</td> <td>positive   </td> <td>198  </td>\n",
       "        </tr>\n",
       "        <tr>\n",
       "            <td>no cancer</td> <td>negative   </td> <td>9702 </td>\n",
       "        </tr>\n",
       "    </tbody>\n",
       "</table>"
      ],
      "text/plain": [
       "status    | test status | count\n",
       "cancer    | positive    | 90\n",
       "cancer    | negative    | 10\n",
       "no cancer | positive    | 198\n",
       "no cancer | negative    | 9702"
      ]
     },
     "execution_count": 203,
     "metadata": {},
     "output_type": "execute_result"
    }
   ],
   "source": [
    "people = Table().with_columns(\n",
    "    \"status\", [\"cancer\", \"cancer\", \"no cancer\", \"no cancer\"],\n",
    "    \"test status\", [\"positive\", \"negative\", \"positive\", \"negative\"],\n",
    "    \"count\", [90, 10, 198, 9702])\n",
    "people"
   ]
  },
  {
   "cell_type": "markdown",
   "id": "dfea3194",
   "metadata": {
    "id": "dfea3194"
   },
   "source": [
    "One way to visualize this dataset is with a contingency table, which you've seen before.\n",
    "\n",
    "---\n",
    "\n",
    "**Question 3.1.1.** Using the `people` table defined above, create a contingency table that looks like this:\n",
    "\n",
    "|status|negative|positive|\n",
    "|-|-|-|\n",
    "|cancer|||\n",
    "|no cancer||||\n",
    "\n",
    "with the **count** of each group filled in, according to what we've told you above.  The counts in the 4 boxes should sum to 10,000.\n"
   ]
  },
  {
   "cell_type": "code",
   "execution_count": 204,
   "id": "2ede8b8d",
   "metadata": {
    "deletable": false,
    "id": "2ede8b8d",
    "outputId": "4908868d-8b0f-4a57-b4d1-00e8e14f97d5",
    "scrolled": true,
    "tags": []
   },
   "outputs": [
    {
     "data": {
      "text/html": [
       "<table border=\"1\" class=\"dataframe\">\n",
       "    <thead>\n",
       "        <tr>\n",
       "            <th>status</th> <th>negative</th> <th>positive</th>\n",
       "        </tr>\n",
       "    </thead>\n",
       "    <tbody>\n",
       "        <tr>\n",
       "            <td>cancer   </td> <td>10      </td> <td>90      </td>\n",
       "        </tr>\n",
       "        <tr>\n",
       "            <td>no cancer</td> <td>9702    </td> <td>198     </td>\n",
       "        </tr>\n",
       "    </tbody>\n",
       "</table>"
      ],
      "text/plain": [
       "status    | negative | positive\n",
       "cancer    | 10       | 90\n",
       "no cancer | 9702     | 198"
      ]
     },
     "execution_count": 204,
     "metadata": {},
     "output_type": "execute_result"
    }
   ],
   "source": [
    "cancer = people.pivot(\"test status\", \"status\", values=\"count\", collect=sum)\n",
    "cancer"
   ]
  },
  {
   "cell_type": "code",
   "execution_count": 205,
   "id": "3aa8601b",
   "metadata": {
    "deletable": false,
    "editable": false,
    "id": "3aa8601b",
    "outputId": "8755b5c5-635e-4250-8b58-5d34f49a4b97"
   },
   "outputs": [
    {
     "data": {
      "text/html": [
       "<p><strong><pre style='display: inline;'>q3_1_1</pre></strong> passed! 🙌</p>"
      ],
      "text/plain": [
       "q3_1_1 results: All test cases passed!"
      ]
     },
     "execution_count": 205,
     "metadata": {},
     "output_type": "execute_result"
    }
   ],
   "source": [
    "grader.check(\"q3_1_1\")"
   ]
  },
  {
   "cell_type": "markdown",
   "id": "89d89e86",
   "metadata": {
    "id": "89d89e86"
   },
   "source": [
    "Here is the `people` data in an icon array."
   ]
  },
  {
   "cell_type": "code",
   "execution_count": 206,
   "id": "aaa54405",
   "metadata": {
    "id": "aaa54405",
    "outputId": "da19b5f5-56a0-48f8-f361-3a18f45a03b9"
   },
   "outputs": [],
   "source": [
    "#display_grouped_icon_array(people, \"people who've taken a cancer test\")"
   ]
  },
  {
   "cell_type": "markdown",
   "id": "03a2e947",
   "metadata": {
    "id": "03a2e947"
   },
   "source": [
    "Now let's think about how you can use this kind of information when Person X is tested for cancer.\n",
    "\n",
    "Before you know any information about Person X, you could imagine Person X as a **uniform random sample** of one of the 10,000 people in this imaginary population of people who have been tested.\n",
    "\n",
    "What's the chance that Person X has cancer, knowing nothing else about them? If we add together the green and red labeled categories from the visual above, we can find that the chance is $\\frac{100}{10000}$, or 1%.  We can see that more directly with this icon array:"
   ]
  },
  {
   "cell_type": "code",
   "execution_count": 207,
   "id": "45e66a1b",
   "metadata": {
    "id": "45e66a1b",
    "outputId": "0fe99748-f755-4ca5-f470-5bd0581977dc"
   },
   "outputs": [],
   "source": [
    "by_health = people.select(0, 2).group(0, sum).relabeled(1, 'count')\n",
    "#display_grouped_icon_array(by_health, \"people who've taken a cancer test\")"
   ]
  },
  {
   "cell_type": "markdown",
   "id": "76667004",
   "metadata": {
    "id": "76667004"
   },
   "source": [
    "---\n",
    "\n",
    "**Question 3.1.2.** What's the chance that Person X has a positive test result, knowing nothing else about them?\n",
    "Run the next code cell to display an icon array, then assign `probability_positive_test` to this value."
   ]
  },
  {
   "cell_type": "code",
   "execution_count": 208,
   "id": "b111b93e",
   "metadata": {
    "deletable": false,
    "id": "b111b93e",
    "outputId": "715541d9-ecba-473c-c816-5b03551318d2",
    "tags": []
   },
   "outputs": [],
   "source": [
    "# Run this cell first to display an icon array. Then fill in the probability of a positive test result in the last line.\n",
    "by_test = people.select(1, 2).group(0, sum).relabeled(1, 'count')\n",
    "#display_grouped_icon_array(by_test, \"people who've taken a cancer test\")\n",
    "\n",
    "# Now fill in the probability of a positive test result\n",
    "probability_positive_test = 288 / 10000"
   ]
  },
  {
   "cell_type": "code",
   "execution_count": 209,
   "id": "363f1bea",
   "metadata": {
    "deletable": false,
    "editable": false,
    "id": "363f1bea",
    "outputId": "2b5085dc-6ea3-46bb-d2c2-a58201305a55"
   },
   "outputs": [
    {
     "data": {
      "text/html": [
       "<p><strong><pre style='display: inline;'>q3_1_2</pre></strong> passed! 💯</p>"
      ],
      "text/plain": [
       "q3_1_2 results: All test cases passed!"
      ]
     },
     "execution_count": 209,
     "metadata": {},
     "output_type": "execute_result"
    }
   ],
   "source": [
    "grader.check(\"q3_1_2\")"
   ]
  },
  {
   "cell_type": "markdown",
   "id": "7c5bca70",
   "metadata": {
    "id": "7c5bca70"
   },
   "source": [
    "<hr style=\"border: 5px solid #003262;\" />\n",
    "<hr style=\"border: 1px solid #fdb515;\" />\n",
    "\n",
    "## 3.2. Interpreting test results\n",
    "Suppose Person X has a positive test result.  This means that you can now eliminate the options of people with a negative test result and narrow them down to being part of just one of the two following groups:\n",
    "1. The people with cancer who have a positive test result.\n",
    "2. The people without cancer who have a positive test result.\n",
    "\n",
    "Here's an icon array for those two groups:"
   ]
  },
  {
   "cell_type": "code",
   "execution_count": 210,
   "id": "756b359f",
   "metadata": {
    "id": "756b359f",
    "outputId": "055a2fea-85ea-4bbb-ff11-fa89b316b816"
   },
   "outputs": [],
   "source": [
    "# Just run this cell.\n",
    "#display_grouped_icon_array(people.where(\"test status\", are.equal_to(\"positive\")).drop(1), \"people who have a positive test result\")"
   ]
  },
  {
   "cell_type": "markdown",
   "id": "75c4886d",
   "metadata": {
    "id": "75c4886d"
   },
   "source": [
    "The *conditional probability* that Person X **has cancer given their positive test result** is the chance that they're in the first group (cancer), assuming they have a positive test result.\n",
    "\n",
    "---\n",
    "\n",
    "**Question 3.2.1.** Eyeballing the icon array above, is the conditional probability that Person X has cancer **given their positive test result** closest to:\n",
    "\n",
    "1. $\\displaystyle\\frac{9}{10}$\n",
    "\n",
    "2. $\\displaystyle\\frac{2}{3}$\n",
    "\n",
    "3. $\\displaystyle\\frac{1}{2}$\n",
    "\n",
    "4. $\\displaystyle\\frac{1}{3}$\n",
    "\n",
    "5. $\\displaystyle\\frac{1}{100}$\n",
    "\n",
    "\n",
    "Assign `rough_prob_cancer_given_positive` to an integer corresponding to your answer.\n"
   ]
  },
  {
   "cell_type": "code",
   "execution_count": 211,
   "id": "80b1d6db",
   "metadata": {
    "deletable": false,
    "id": "80b1d6db",
    "tags": []
   },
   "outputs": [],
   "source": [
    "# Set this to either 1, 2, 3, 4, or 5 corresponding to the correct probability.\n",
    "rough_prob_cancer_given_positive = 4"
   ]
  },
  {
   "cell_type": "code",
   "execution_count": 212,
   "id": "310e71ea",
   "metadata": {
    "deletable": false,
    "editable": false,
    "id": "310e71ea",
    "outputId": "014714c4-7e1c-4cb1-ef5b-7d5c36921334"
   },
   "outputs": [
    {
     "data": {
      "text/html": [
       "<p><strong><pre style='display: inline;'>q3_2_1</pre></strong> passed! 🙌</p>"
      ],
      "text/plain": [
       "q3_2_1 results: All test cases passed!"
      ]
     },
     "execution_count": 212,
     "metadata": {},
     "output_type": "execute_result"
    }
   ],
   "source": [
    "grader.check(\"q3_2_1\")"
   ]
  },
  {
   "cell_type": "markdown",
   "id": "a38e65bb",
   "metadata": {
    "id": "a38e65bb"
   },
   "source": [
    "---\n",
    "\n",
    "**Question 3.2.2.** Now write code to calculate that probability exactly, using the original contingency table you wrote (the `cancer` table).\n",
    "\n",
    "Run the next code cell to see the `cancer` table, then fill in `prob_cancer_given_positive` with your code.\n"
   ]
  },
  {
   "cell_type": "code",
   "execution_count": 213,
   "id": "e389637e",
   "metadata": {
    "deletable": false,
    "id": "e389637e",
    "outputId": "56409691-7241-4fcc-bda8-b9ed4252eed7",
    "tags": []
   },
   "outputs": [
    {
     "data": {
      "text/html": [
       "<table border=\"1\" class=\"dataframe\">\n",
       "    <thead>\n",
       "        <tr>\n",
       "            <th>status</th> <th>negative</th> <th>positive</th>\n",
       "        </tr>\n",
       "    </thead>\n",
       "    <tbody>\n",
       "        <tr>\n",
       "            <td>cancer   </td> <td>10      </td> <td>90      </td>\n",
       "        </tr>\n",
       "        <tr>\n",
       "            <td>no cancer</td> <td>9702    </td> <td>198     </td>\n",
       "        </tr>\n",
       "    </tbody>\n",
       "</table>"
      ],
      "text/plain": [
       "<IPython.core.display.HTML object>"
      ]
     },
     "metadata": {},
     "output_type": "display_data"
    },
    {
     "name": "stdout",
     "output_type": "stream",
     "text": [
      "Probability of cancer given positive test result: 0.3125\n"
     ]
    }
   ],
   "source": [
    "# Run this cell first to see the cancer table. Then fill in the next line of this cell.\n",
    "cancer.show()\n",
    "\n",
    "prob_cancer_given_positive = 90 / 288\n",
    "\n",
    "print('Probability of cancer given positive test result: {}'.format(prob_cancer_given_positive))"
   ]
  },
  {
   "cell_type": "code",
   "execution_count": 214,
   "id": "693ef2ce",
   "metadata": {
    "deletable": false,
    "editable": false,
    "id": "693ef2ce",
    "outputId": "f3a6ec13-b9bc-42e1-a0cd-de592fb66ba0"
   },
   "outputs": [
    {
     "data": {
      "text/html": [
       "<p><strong><pre style='display: inline;'>q3_2_2</pre></strong> passed! 🚀</p>"
      ],
      "text/plain": [
       "q3_2_2 results: All test cases passed!"
      ]
     },
     "execution_count": 214,
     "metadata": {},
     "output_type": "execute_result"
    }
   ],
   "source": [
    "grader.check(\"q3_2_2\")"
   ]
  },
  {
   "cell_type": "markdown",
   "id": "ff395834",
   "metadata": {
    "id": "ff395834"
   },
   "source": [
    "---\n",
    "\n",
    "**Question 3.2.3.** Look at the full icon array again.  Using that, how would you compute the conditional probability of cancer given a positive test?\n",
    "\n",
    "Run the next code cell to see the full icon array.\n"
   ]
  },
  {
   "cell_type": "markdown",
   "id": "4da3d52f",
   "metadata": {
    "id": "4da3d52f"
   },
   "source": [
    "_90 / 288_"
   ]
  },
  {
   "cell_type": "code",
   "execution_count": 215,
   "id": "b8706373",
   "metadata": {
    "id": "b8706373",
    "outputId": "3d6f4af7-5d95-43a0-b974-37e14ea86bbf"
   },
   "outputs": [],
   "source": [
    "# The full icon array is given here for your convenience.\n",
    "# Write your answer in the previous cell.\n",
    "#display_grouped_icon_array(people, \"people who've taken a cancer test\")"
   ]
  },
  {
   "cell_type": "markdown",
   "id": "9980018c",
   "metadata": {
    "id": "9980018c"
   },
   "source": [
    "---\n",
    "\n",
    "**Question 3.2.4.** Is your answer to question 3.2.2 larger than the overall proportion of people in the population who have cancer (given as 1% in 3.1.1)?  Does that make sense? Check with your peers or a staff member to see if you have the right idea.\n"
   ]
  },
  {
   "cell_type": "markdown",
   "id": "e5c591bd",
   "metadata": {
    "id": "e5c591bd"
   },
   "source": [
    "_Type your answer here, replacing this text._"
   ]
  },
  {
   "cell_type": "markdown",
   "id": "ed6338f8",
   "metadata": {
    "id": "ed6338f8"
   },
   "source": [
    "<hr style=\"border: 5px solid #003262;\" />\n",
    "<hr style=\"border: 1px solid #fdb515;\" />\n",
    "\n",
    "# 4. A Subjective Prior\n",
    "\n",
    "Being right isn’t always satisfying. Classifying a Positive patient as not having cancer still seems somehow wrong, for such an accurate test. In this section, we'll take a deeper look at the basis of our probability calculation: the assumption of randomness.\n",
    "\n",
    "Our assumption was that a randomly chosen person was tested from our population of 10,000 individuals. This doesn’t happen in reality. People go in to get tested because they think they might have the disease, or because their doctor thinks they might have the disease. People getting tested are not randomly chosen members of the population.\n",
    "\n",
    "That is why our intuition about people getting tested was not fitting well with the answer that we got. In **Question 3.2.2**, we calculated that the probability of cancer given a positive test result was **0.3125**, or **31.25%**. This seems unusually low, especially given what we know about the efficacy of cancer screenings. We were imagining a realistic situation of a patient going in to get tested because there was some reason for them to do so, whereas the calculation was based on a randomly chosen person being tested.\n",
    "\n",
    "So let’s redo our calculation under the more realistic assumption that the patient is getting tested because the doctor thinks there’s a chance the patient has the disease and compare the two probabilities.\n",
    "\n",
    "**Aside:** For more information about Part 4 of this lab, check out [Section 18.2.2](https://inferentialthinking.com/chapters/18/2/Making_Decisions.html#a-subjective-prior) from the textbook."
   ]
  },
  {
   "cell_type": "markdown",
   "id": "b9e6c013",
   "metadata": {
    "id": "b9e6c013"
   },
   "source": [
    "<hr style=\"border: 5px solid #003262;\" />\n",
    "<hr style=\"border: 1px solid #fdb515;\" />\n",
    "\n",
    "## 4.1. A New Look at the Population\n",
    "Suppose now that our population of 10,000 inviduals takes into account the fact that choosing to take a medical test is not done at random; there must be some motive for an individual to take one. Thus, our modified population has the following properties:\n",
    "1. 1,000 people have cancer.\n",
    "1. Among the 1,000 people that have cancer, 900 have positive results on a cancer test and 100 have negative results.\n",
    "3. The other 9,000 people don't have cancer.\n",
    "4. Among these 9,000 people, 180 have positive results on a cancer test and the other 8,820 have negative results.  (So 180 see \"false positive\" results.)\n",
    "\n",
    "Below we've generated a population table called `people_new` and a contingency table with data from these 10,000 hypothetical people called `cancer_new`."
   ]
  },
  {
   "cell_type": "code",
   "execution_count": 216,
   "id": "ea39d55c",
   "metadata": {
    "id": "ea39d55c",
    "outputId": "d58993f3-3935-4813-abc0-516dacb1d97b"
   },
   "outputs": [
    {
     "data": {
      "text/html": [
       "<table border=\"1\" class=\"dataframe\">\n",
       "    <thead>\n",
       "        <tr>\n",
       "            <th>status</th> <th>test status</th> <th>count</th>\n",
       "        </tr>\n",
       "    </thead>\n",
       "    <tbody>\n",
       "        <tr>\n",
       "            <td>cancer   </td> <td>positive   </td> <td>900  </td>\n",
       "        </tr>\n",
       "        <tr>\n",
       "            <td>cancer   </td> <td>negative   </td> <td>100  </td>\n",
       "        </tr>\n",
       "        <tr>\n",
       "            <td>no cancer</td> <td>positive   </td> <td>180  </td>\n",
       "        </tr>\n",
       "        <tr>\n",
       "            <td>no cancer</td> <td>negative   </td> <td>8820 </td>\n",
       "        </tr>\n",
       "    </tbody>\n",
       "</table>"
      ],
      "text/plain": [
       "status    | test status | count\n",
       "cancer    | positive    | 900\n",
       "cancer    | negative    | 100\n",
       "no cancer | positive    | 180\n",
       "no cancer | negative    | 8820"
      ]
     },
     "execution_count": 216,
     "metadata": {},
     "output_type": "execute_result"
    }
   ],
   "source": [
    "# Just run this cell to load the table\n",
    "people_new = Table().with_columns(\n",
    "    \"status\", [\"cancer\", \"cancer\", \"no cancer\", \"no cancer\"],\n",
    "    \"test status\", [\"positive\", \"negative\", \"positive\", \"negative\"],\n",
    "    \"count\", [900, 100, 180, 8820])\n",
    "people_new"
   ]
  },
  {
   "cell_type": "code",
   "execution_count": 217,
   "id": "b431c685",
   "metadata": {
    "id": "b431c685",
    "outputId": "bfee8a9a-30c3-44e1-a838-3fe166cc4a2f"
   },
   "outputs": [
    {
     "data": {
      "text/html": [
       "<table border=\"1\" class=\"dataframe\">\n",
       "    <thead>\n",
       "        <tr>\n",
       "            <th>status</th> <th>negative</th> <th>positive</th>\n",
       "        </tr>\n",
       "    </thead>\n",
       "    <tbody>\n",
       "        <tr>\n",
       "            <td>cancer   </td> <td>100     </td> <td>900     </td>\n",
       "        </tr>\n",
       "        <tr>\n",
       "            <td>no cancer</td> <td>8820    </td> <td>180     </td>\n",
       "        </tr>\n",
       "    </tbody>\n",
       "</table>"
      ],
      "text/plain": [
       "status    | negative | positive\n",
       "cancer    | 100      | 900\n",
       "no cancer | 8820     | 180"
      ]
     },
     "execution_count": 217,
     "metadata": {},
     "output_type": "execute_result"
    }
   ],
   "source": [
    "# Just run this cell to load the table\n",
    "cancer_new = Table().with_columns(\n",
    "    \"status\", [\"cancer\", \"no cancer\"],\n",
    "    \"negative\", [100, 8820],\n",
    "    \"positive\", [900, 180])\n",
    "cancer_new"
   ]
  },
  {
   "cell_type": "markdown",
   "id": "f3ec85bf",
   "metadata": {
    "id": "f3ec85bf"
   },
   "source": [
    "As before, we can present the data above in an icon array. Here is the `people_new` data in such a format."
   ]
  },
  {
   "cell_type": "code",
   "execution_count": 218,
   "id": "5fa04794",
   "metadata": {
    "id": "5fa04794",
    "outputId": "6244405f-8e56-4d6c-e8df-0ee64bb17ff9"
   },
   "outputs": [],
   "source": [
    "#display_grouped_icon_array(people_new, \"people who've taken a cancer test\")"
   ]
  },
  {
   "cell_type": "markdown",
   "id": "019f9d9e",
   "metadata": {
    "id": "019f9d9e"
   },
   "source": [
    "<hr style=\"border: 5px solid #003262;\" />\n",
    "<hr style=\"border: 1px solid #fdb515;\" />\n",
    "\n",
    "## 4.2. Interpretation and Comparison\n",
    "As in Part 3, let's suppose Person X has a positive test result.  This means that you can now narrow them down to being part of just one of the two following groups:\n",
    "1. The people with cancer who have a positive test result.\n",
    "2. The people without cancer who have a positive test result.\n",
    "\n",
    "Just as we did in Part 3 of this lab, here's an icon array for those two groups:"
   ]
  },
  {
   "cell_type": "code",
   "execution_count": 219,
   "id": "ffc44334",
   "metadata": {
    "id": "ffc44334",
    "outputId": "65e2725b-d742-4dbe-e7f1-29a87bb798a9"
   },
   "outputs": [],
   "source": [
    "# Just run this cell.\n",
    "#display_grouped_icon_array(people_new.where(\"test status\", are.equal_to(\"positive\")).drop(1), \"people who have a positive test result\")"
   ]
  },
  {
   "cell_type": "markdown",
   "id": "d5baaa45",
   "metadata": {
    "id": "d5baaa45"
   },
   "source": [
    "---\n",
    "\n",
    "**Question 4.2.1.** Using the new contingency table, `cancer_new`, that was provided at the beginning of this section, write code to calculate the exact probability that an individual has cancer given that they've received a positive test result.\n",
    "\n",
    "Run the next code cell to see the `cancer_new` table, then fill in `prob_cancer_given_positive_new` with your code.\n"
   ]
  },
  {
   "cell_type": "code",
   "execution_count": 220,
   "id": "f9c079a1",
   "metadata": {
    "deletable": false,
    "id": "f9c079a1",
    "outputId": "5f394853-4d48-49c4-8864-e15234ed5e3c",
    "tags": []
   },
   "outputs": [
    {
     "data": {
      "text/html": [
       "<table border=\"1\" class=\"dataframe\">\n",
       "    <thead>\n",
       "        <tr>\n",
       "            <th>status</th> <th>negative</th> <th>positive</th>\n",
       "        </tr>\n",
       "    </thead>\n",
       "    <tbody>\n",
       "        <tr>\n",
       "            <td>cancer   </td> <td>100     </td> <td>900     </td>\n",
       "        </tr>\n",
       "        <tr>\n",
       "            <td>no cancer</td> <td>8820    </td> <td>180     </td>\n",
       "        </tr>\n",
       "    </tbody>\n",
       "</table>"
      ],
      "text/plain": [
       "<IPython.core.display.HTML object>"
      ]
     },
     "metadata": {},
     "output_type": "display_data"
    },
    {
     "name": "stdout",
     "output_type": "stream",
     "text": [
      "Probability of cancer given positive test result: 0.8333333333333334\n"
     ]
    }
   ],
   "source": [
    "# Run this cell first to see the cancer_new table. Then fill in the next line of this cell.\n",
    "cancer_new.show()\n",
    "\n",
    "prob_cancer_given_positive_new = 900 / 1080\n",
    "\n",
    "print(f'Probability of cancer given positive test result: {prob_cancer_given_positive_new}')"
   ]
  },
  {
   "cell_type": "code",
   "execution_count": 221,
   "id": "bb24815e",
   "metadata": {
    "deletable": false,
    "editable": false,
    "id": "bb24815e",
    "outputId": "0945858d-be83-4dd8-aff0-ee9e67850c98"
   },
   "outputs": [
    {
     "data": {
      "text/html": [
       "<p><strong><pre style='display: inline;'>q4_2_1</pre></strong> passed! 🙌</p>"
      ],
      "text/plain": [
       "q4_2_1 results: All test cases passed!"
      ]
     },
     "execution_count": 221,
     "metadata": {},
     "output_type": "execute_result"
    }
   ],
   "source": [
    "grader.check(\"q4_2_1\")"
   ]
  },
  {
   "cell_type": "markdown",
   "id": "1d043ab9",
   "metadata": {
    "id": "1d043ab9"
   },
   "source": [
    "---\n",
    "\n",
    "**Question 4.2.2.** How does your probability in 3.2.2 compare to your answer from 4.2.1? Does that make sense? Check with your peers or a staff member to see if you have the right idea.\n",
    "\n",
    "*Hint:* Check out [Ch 18.2.2](https://inferentialthinking.com/chapters/18/2/Making_Decisions.html#a-subjective-prior) for additional help!\n"
   ]
  },
  {
   "cell_type": "markdown",
   "id": "43eb7f9c",
   "metadata": {
    "id": "43eb7f9c"
   },
   "source": [
    "_Type your answer here, replacing this text._"
   ]
  },
  {
   "cell_type": "markdown",
   "id": "903366cd",
   "metadata": {
    "id": "903366cd"
   },
   "source": [
    "## Done!\n",
    "\n",
    "<img src=\"./boi.png\" alt=\"Photo of a Shih Tzu laying on a couch \" width=\"250\"/>\n",
    "\n",
    "Boi congratulates you with finishing **_all_** of the Data 8 labs!!!"
   ]
  },
  {
   "cell_type": "raw",
   "id": "367a8e6e",
   "metadata": {
    "id": "367a8e6e"
   },
   "source": []
  },
  {
   "cell_type": "markdown",
   "id": "e86534da",
   "metadata": {
    "id": "e86534da"
   },
   "source": [
    "\n",
    "---\n",
    "\n",
    "You're done with lab!\n",
    "\n",
    "**Important submission information:**\n",
    "- **Run all the tests** and verify that they all pass\n",
    "- **Save** from the **File** menu\n",
    "- **Run the final cell to generate the zip file**\n",
    "- **Click the link to download the zip file**\n",
    "- Then, go to [Gradescope](https://www.gradescope.com/courses/835871) and submit the zip file to the corresponding assignment. The name of this assignment is \"Lab XX Autograder\", where XX is the lab number -- 01, 02, 03, etc.\n",
    "\n",
    "- If you finish early in Regular Lab, **ask one of the staff members to check you off**.\n",
    "\n",
    "**It is your responsibility to make sure your work is saved before running the last cell.**\n"
   ]
  },
  {
   "cell_type": "markdown",
   "id": "dc0534b0",
   "metadata": {
    "deletable": false,
    "editable": false,
    "id": "dc0534b0"
   },
   "source": [
    "## Submission\n",
    "\n",
    "Make sure you have run all cells in your notebook in order before running the cell below, so that all images/graphs appear in the output. The cell below will generate a zip file for you to submit. **Please save before exporting!**"
   ]
  },
  {
   "cell_type": "code",
   "execution_count": 222,
   "id": "e4eed47f",
   "metadata": {
    "deletable": false,
    "editable": false,
    "id": "e4eed47f",
    "outputId": "3aa6ce1f-0102-457e-f3d5-a8f907bd73da"
   },
   "outputs": [
    {
     "name": "stdout",
     "output_type": "stream",
     "text": [
      "Running your submission against local test cases...\n",
      "\n"
     ]
    },
    {
     "name": "stdout",
     "output_type": "stream",
     "text": [
      "\n",
      "Your submission received the following results when run against available test cases:\n",
      "\n",
      "    q2_0_1 results: All test cases passed!\n",
      "\n",
      "    q2_0_2 results: All test cases passed!\n",
      "\n",
      "    q2_1_1 results: All test cases passed!\n",
      "\n",
      "    q2_1_2 results: All test cases passed!\n",
      "\n",
      "    q3_1_1 results: All test cases passed!\n",
      "\n",
      "    q3_1_2 results: All test cases passed!\n",
      "\n",
      "    q3_2_1 results: All test cases passed!\n",
      "\n",
      "    q3_2_2 results: All test cases passed!\n",
      "\n",
      "    q4_2_1 results: All test cases passed!\n"
     ]
    },
    {
     "data": {
      "text/html": [
       "\n",
       "                    <p>\n",
       "                        Your submission has been exported. Click\n",
       "                        <a href=\"lab10_2025_05_21T20_58_59_714993.zip\" download=\"lab10_2025_05_21T20_58_59_714993.zip\" target=\"_blank\">here</a> to download\n",
       "                        the zip file.\n",
       "                    </p>\n",
       "                "
      ],
      "text/plain": [
       "<IPython.core.display.HTML object>"
      ]
     },
     "metadata": {},
     "output_type": "display_data"
    }
   ],
   "source": [
    "# Save your notebook first, then run this cell to export your submission.\n",
    "grader.export(pdf=False, run_tests=True)"
   ]
  },
  {
   "cell_type": "markdown",
   "id": "a4c066d1",
   "metadata": {
    "id": "a4c066d1"
   },
   "source": []
  }
 ],
 "metadata": {
  "colab": {
   "provenance": []
  },
  "kernelspec": {
   "display_name": "Python 3",
   "language": "python",
   "name": "python3"
  },
  "language_info": {
   "codemirror_mode": {
    "name": "ipython",
    "version": 3
   },
   "file_extension": ".py",
   "mimetype": "text/x-python",
   "name": "python",
   "nbconvert_exporter": "python",
   "pygments_lexer": "ipython3",
   "version": "3.12.4"
  },
  "otter": {
   "OK_FORMAT": true,
   "tests": {
    "q2_0_1": {
     "name": "q2_0_1",
     "points": null,
     "suites": [
      {
       "cases": [
        {
         "code": ">>> 0 < probability_large_shiny < 1 \nTrue",
         "hidden": false,
         "locked": false
        },
        {
         "code": ">>> \n>>> import hashlib \n>>> def get_hash(num):\n...     \"\"\"Helper function for assessing correctness.\"\"\"\n...     return hashlib.md5(str(num).encode()).hexdigest()\n>>> \n>>> get_hash(np.round(probability_large_shiny, 3))\n'8404599d79837400f000c64a4fa1cc0e'",
         "hidden": false,
         "locked": false
        }
       ],
       "scored": true,
       "setup": "",
       "teardown": "",
       "type": "doctest"
      }
     ]
    },
    "q2_0_2": {
     "name": "q2_0_2",
     "points": null,
     "suites": [
      {
       "cases": [
        {
         "code": ">>> import hashlib \n>>> def get_hash(num):\n...     \"\"\"Helper function for assessing correctness.\"\"\"\n...     return hashlib.md5(str(num).encode()).hexdigest()\n>>> \n>>> get_hash(np.round(probability_shiny, 3))\n'a83a7d5356406fb9bdbb4d93697cee38'",
         "hidden": false,
         "locked": false
        }
       ],
       "scored": true,
       "setup": "",
       "teardown": "",
       "type": "doctest"
      }
     ]
    },
    "q2_1_1": {
     "name": "q2_1_1",
     "points": null,
     "suites": [
      {
       "cases": [
        {
         "code": ">>> \n>>> import hashlib \n>>> def get_hash(num):\n...     \"\"\"Helper function for assessing correctness.\"\"\"\n...     return hashlib.md5(str(num).encode()).hexdigest()\n>>> \n>>> get_hash(np.round(probability_shiny_given_large, 3))\n'57eeec0a6974ecb4e9fcf68fab052f7b'",
         "hidden": false,
         "locked": false
        }
       ],
       "scored": true,
       "setup": "",
       "teardown": "",
       "type": "doctest"
      }
     ]
    },
    "q2_1_2": {
     "name": "q2_1_2",
     "points": null,
     "suites": [
      {
       "cases": [
        {
         "code": ">>> \n>>> import hashlib \n>>> def get_hash(num):\n...     \"\"\"Helper function for assessing correctness.\"\"\"\n...     return hashlib.md5(str(num).encode()).hexdigest()\n>>> \n>>> get_hash(np.round(probability_large_given_shiny, 3))\n'54fbf38cf649866815e0fefc46a1f6c7'",
         "hidden": false,
         "locked": false
        }
       ],
       "scored": true,
       "setup": "",
       "teardown": "",
       "type": "doctest"
      }
     ]
    },
    "q3_1_1": {
     "name": "q3_1_1",
     "points": null,
     "suites": [
      {
       "cases": [
        {
         "code": ">>> sum(cancer.column(1)) == 9712\nTrue",
         "hidden": false,
         "locked": false
        },
        {
         "code": ">>> sum(cancer.column(2)) == 288\nTrue",
         "hidden": false,
         "locked": false
        },
        {
         "code": ">>> cancer\nstatus    | negative | positive\ncancer    | 10       | 90\nno cancer | 9702     | 198",
         "hidden": false,
         "locked": false
        }
       ],
       "scored": true,
       "setup": "",
       "teardown": "",
       "type": "doctest"
      }
     ]
    },
    "q3_1_2": {
     "name": "q3_1_2",
     "points": null,
     "suites": [
      {
       "cases": [
        {
         "code": ">>> \n>>> import hashlib \n>>> def get_hash(num):\n...     \"\"\"Helper function for assessing correctness.\"\"\"\n...     return hashlib.md5(str(num).encode()).hexdigest()\n>>> \n>>> get_hash(np.round(probability_positive_test, 4)) == 'c50fc42a07a3cc2af3249a6e3ed78374'\nTrue",
         "hidden": false,
         "locked": false
        }
       ],
       "scored": true,
       "setup": "",
       "teardown": "",
       "type": "doctest"
      }
     ]
    },
    "q3_2_1": {
     "name": "q3_2_1",
     "points": null,
     "suites": [
      {
       "cases": [
        {
         "code": ">>> \n>>> import hashlib \n>>> def get_hash(num):\n...     \"\"\"Helper function for assessing correctness.\"\"\"\n...     return hashlib.md5(str(num).encode()).hexdigest()\n>>> \n>>> get_hash(int(rough_prob_cancer_given_positive))\n'a87ff679a2f3e71d9181a67b7542122c'",
         "hidden": false,
         "locked": false
        }
       ],
       "scored": true,
       "setup": "",
       "teardown": "",
       "type": "doctest"
      }
     ]
    },
    "q3_2_2": {
     "name": "q3_2_2",
     "points": null,
     "suites": [
      {
       "cases": [
        {
         "code": ">>> \n>>> import hashlib \n>>> def get_hash(num):\n...     \"\"\"Helper function for assessing correctness.\"\"\"\n...     return hashlib.md5(str(num).encode()).hexdigest()\n>>> \n>>> get_hash(np.round(prob_cancer_given_positive, 4))\n'15432ad172f7f319fe502e6337b3f549'",
         "hidden": false,
         "locked": false
        }
       ],
       "scored": true,
       "setup": "",
       "teardown": "",
       "type": "doctest"
      }
     ]
    },
    "q4_2_1": {
     "name": "q4_2_1",
     "points": null,
     "suites": [
      {
       "cases": [
        {
         "code": ">>> \n>>> import hashlib \n>>> def get_hash(num):\n...     \"\"\"Helper function for assessing correctness.\"\"\"\n...     return hashlib.md5(str(num).encode()).hexdigest()\n>>> \n>>> get_hash(np.round(prob_cancer_given_positive_new, 4)) == '4f59b3fd6f5001542919c239391a3278'\nTrue",
         "hidden": false,
         "locked": false
        }
       ],
       "scored": true,
       "setup": "",
       "teardown": "",
       "type": "doctest"
      }
     ]
    }
   }
  }
 },
 "nbformat": 4,
 "nbformat_minor": 5
}
